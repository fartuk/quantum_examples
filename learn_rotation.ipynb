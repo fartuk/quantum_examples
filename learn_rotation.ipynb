{
 "cells": [
  {
   "cell_type": "markdown",
   "metadata": {},
   "source": [
    "# Learn rotation params from |0> to |1>"
   ]
  },
  {
   "cell_type": "code",
   "execution_count": 8,
   "metadata": {},
   "outputs": [
    {
     "data": {
      "text/html": [
       "<style>.container { width:100% !important; }</style>"
      ],
      "text/plain": [
       "<IPython.core.display.HTML object>"
      ]
     },
     "metadata": {},
     "output_type": "display_data"
    }
   ],
   "source": [
    "from IPython.core.display import display, HTML\n",
    "display(HTML(\"<style>.container { width:100% !important; }</style>\"))"
   ]
  },
  {
   "cell_type": "markdown",
   "metadata": {},
   "source": [
    "## Pure qisqit"
   ]
  },
  {
   "cell_type": "code",
   "execution_count": 1,
   "metadata": {},
   "outputs": [],
   "source": [
    "from qiskit import QuantumCircuit, Aer, execute, aqua\n",
    "from qiskit.circuit import Parameter"
   ]
  },
  {
   "cell_type": "code",
   "execution_count": 35,
   "metadata": {},
   "outputs": [],
   "source": [
    "def my_exp(counts):\n",
    "    if '0' not in counts:\n",
    "        counts['0'] = 0\n",
    "        \n",
    "    if '1' not in counts:\n",
    "        counts['1'] = 0\n",
    "        \n",
    "    return counts['1'] / (counts['0'] + counts['1'])"
   ]
  },
  {
   "cell_type": "code",
   "execution_count": 65,
   "metadata": {},
   "outputs": [],
   "source": [
    "params_names = [Parameter('rx'), Parameter('ry')]\n",
    "backend = Aer.get_backend('qasm_simulator')\n",
    "\n",
    "qc = QuantumCircuit(1)\n",
    "qc.rx(params_names[0], 0)\n",
    "qc.ry(params_names[1], 0)\n",
    "\n",
    "qc.measure_all()\n",
    "\n"
   ]
  },
  {
   "cell_type": "code",
   "execution_count": 72,
   "metadata": {},
   "outputs": [],
   "source": [
    "def execute_qc(params):\n",
    "    binds = [{param:val for param, val in zip(params_names, params)}]\n",
    "    counts = execute(qc, backend, parameter_binds=binds).result().get_counts()\n",
    "    return my_exp(counts)"
   ]
  },
  {
   "cell_type": "code",
   "execution_count": 73,
   "metadata": {},
   "outputs": [
    {
     "data": {
      "text/plain": [
       "0.4638671875"
      ]
     },
     "execution_count": 73,
     "metadata": {},
     "output_type": "execute_result"
    }
   ],
   "source": [
    "execute_qc([1.5, 0.2])"
   ]
  },
  {
   "cell_type": "code",
   "execution_count": 86,
   "metadata": {},
   "outputs": [],
   "source": [
    "def loss(params):\n",
    "    return 1 - execute_qc(params)"
   ]
  },
  {
   "cell_type": "code",
   "execution_count": 87,
   "metadata": {},
   "outputs": [],
   "source": [
    "def my_grad(loss, params):\n",
    "    grad = [0] * len(params)\n",
    "    for k in range(len(params)):\n",
    "        curr_params = params.copy()\n",
    "        curr_params[k] = params[k] + 3.14 / 2\n",
    "        up = loss(curr_params)\n",
    "        curr_params[k] = params[k] - 3.14 / 2\n",
    "        down = loss(curr_params)\n",
    "        \n",
    "        grad[k] = (up - down) / 2\n",
    "        \n",
    "    return grad"
   ]
  },
  {
   "cell_type": "code",
   "execution_count": 92,
   "metadata": {},
   "outputs": [
    {
     "name": "stdout",
     "output_type": "stream",
     "text": [
      "0.517578125\n",
      "0.5009765625\n",
      "0.4814453125\n",
      "0.447265625\n",
      "0.4677734375\n",
      "0.4560546875\n",
      "0.4501953125\n",
      "0.3984375\n",
      "0.3857421875\n",
      "0.3212890625\n",
      "0.326171875\n",
      "0.294921875\n",
      "0.259765625\n",
      "0.2119140625\n",
      "0.189453125\n",
      "0.166015625\n",
      "0.1259765625\n",
      "0.0966796875\n",
      "0.0712890625\n",
      "0.060546875\n"
     ]
    }
   ],
   "source": [
    "weights = np.random.uniform(0, np.pi, 2)\n",
    "for _ in range(20):\n",
    "    loss_val = loss(weights)\n",
    "    print(loss_val)\n",
    "    grad_val = my_grad(loss, weights)\n",
    "    grad_val = np.array(grad_val)\n",
    "\n",
    "    weights = weights - 0.3 * grad_val"
   ]
  },
  {
   "cell_type": "markdown",
   "metadata": {},
   "source": [
    "## Pennylane"
   ]
  },
  {
   "cell_type": "code",
   "execution_count": 95,
   "metadata": {},
   "outputs": [],
   "source": [
    "import pennylane as qml\n",
    "from pennylane import qchem\n",
    "from pennylane import numpy as np"
   ]
  },
  {
   "cell_type": "code",
   "execution_count": 96,
   "metadata": {},
   "outputs": [],
   "source": [
    "dev = qml.device(\"default.qubit\", wires=1)\n",
    "#dev = qml.device(\"qiskit.aer\", wires=1)\n",
    "\n",
    "@qml.qnode(dev, diff_method=\"parameter-shift\", mutable=False)\n",
    "def circuit(weights):\n",
    "    qml.RX(weights[0], wires=0)\n",
    "    qml.RY(weights[1], wires=0)\n",
    "    return qml.expval(qml.PauliZ(0))\n",
    "\n",
    "def loss(weight):\n",
    "    return circuit(weight)"
   ]
  },
  {
   "cell_type": "code",
   "execution_count": 97,
   "metadata": {},
   "outputs": [
    {
     "name": "stdout",
     "output_type": "stream",
     "text": [
      "0.6406698714224601\n",
      "0.4484584288159242\n",
      "0.19565173346260845\n",
      "-0.09709517459234368\n",
      "-0.38554315084284313\n",
      "-0.6230018795488429\n",
      "-0.7877958300334716\n",
      "-0.8875472591279022\n",
      "-0.9425572389928326\n",
      "-0.9712476603063374\n",
      "-0.9857603847936782\n",
      "-0.9929856469564871\n",
      "-0.996554013649663\n",
      "-0.99830930702096\n",
      "-0.9991710407246023\n",
      "-0.9995936850321429\n",
      "-0.9998008756553608\n",
      "-0.9999024218637016\n",
      "-0.999952184982484\n",
      "-0.999976570225842\n"
     ]
    }
   ],
   "source": [
    "weights = np.random.uniform(0, np.pi, 2)\n",
    "for _ in range(20):\n",
    "    loss_val = loss(weights)\n",
    "    print(loss_val)\n",
    "    grad_fn = qml.grad(loss, argnum=0)\n",
    "    grad_val = grad_fn(weights)\n",
    "    grad_val = np.array(grad_val)\n",
    "\n",
    "    weights = weights - 0.3 * grad_val"
   ]
  },
  {
   "cell_type": "code",
   "execution_count": 4,
   "metadata": {},
   "outputs": [
    {
     "name": "stdout",
     "output_type": "stream",
     "text": [
      "-0.08780622982958786\n",
      "-0.20746865945368925\n",
      "-0.3659172714182596\n",
      "-0.5604852852244977\n",
      "-0.7485228438416808\n",
      "-0.8814327247542308\n",
      "-0.9514485078173389\n",
      "-0.9815683127074191\n",
      "-0.9932290776060018\n",
      "-0.9975442762985759\n",
      "-0.9991135511529649\n",
      "-0.9996805674345894\n",
      "-0.9998849639050983\n",
      "-0.9999585817705153\n",
      "-0.999985088758739\n",
      "-0.9999946318651864\n",
      "-0.9999980674600671\n",
      "-0.9999993042841467\n",
      "-0.9999997495421011\n",
      "-0.9999999098351315\n"
     ]
    }
   ],
   "source": [
    "opt = qml.GradientDescentOptimizer(stepsize=0.4)\n",
    "weights = np.random.uniform(0, np.pi, 2)\n",
    "for i in range(20):\n",
    "    loss_val = loss(weights)\n",
    "    print(loss_val)\n",
    "    weights = opt.step(loss, weights)\n",
    "    "
   ]
  },
  {
   "cell_type": "code",
   "execution_count": null,
   "metadata": {},
   "outputs": [],
   "source": []
  },
  {
   "cell_type": "code",
   "execution_count": null,
   "metadata": {},
   "outputs": [],
   "source": []
  },
  {
   "cell_type": "code",
   "execution_count": null,
   "metadata": {},
   "outputs": [],
   "source": []
  },
  {
   "cell_type": "code",
   "execution_count": null,
   "metadata": {},
   "outputs": [],
   "source": []
  },
  {
   "cell_type": "code",
   "execution_count": null,
   "metadata": {},
   "outputs": [],
   "source": []
  },
  {
   "cell_type": "code",
   "execution_count": null,
   "metadata": {},
   "outputs": [],
   "source": []
  }
 ],
 "metadata": {
  "kernelspec": {
   "display_name": "Python 3",
   "language": "python",
   "name": "python3"
  },
  "language_info": {
   "codemirror_mode": {
    "name": "ipython",
    "version": 3
   },
   "file_extension": ".py",
   "mimetype": "text/x-python",
   "name": "python",
   "nbconvert_exporter": "python",
   "pygments_lexer": "ipython3",
   "version": "3.6.9"
  }
 },
 "nbformat": 4,
 "nbformat_minor": 4
}
