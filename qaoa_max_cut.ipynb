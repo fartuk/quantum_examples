{
 "cells": [
  {
   "cell_type": "markdown",
   "metadata": {},
   "source": [
    "# max cut"
   ]
  },
  {
   "cell_type": "code",
   "execution_count": 1,
   "metadata": {},
   "outputs": [],
   "source": [
    "import pennylane as qml\n",
    "\n",
    "from pennylane import qaoa\n",
    "from pennylane.vqe.vqe import Hamiltonian\n",
    "\n",
    "import pennylane,numpy as np\n",
    "from matplotlib import pyplot as plt\n",
    "import networkx as nx"
   ]
  },
  {
   "cell_type": "code",
   "execution_count": 34,
   "metadata": {},
   "outputs": [],
   "source": [
    "n_wires=4\n",
    "graph = [(0, 1), (0, 3), (1, 2), (2, 3)]\n",
    "\n",
    "dev = qml.device(\"default.qubit\", wires=n_wires, analytic=True, shots=10000)\n",
    "\n",
    "\n",
    "H_cost = Hamiltonian(coeffs=[], observables=[])\n",
    "for edge in graph:\n",
    "    wire1 = edge[0]\n",
    "    wire2 = edge[1]\n",
    "    for i in range(1):\n",
    "        H_cost -= qml.PauliZ(wire1) @ qml.PauliZ(wire2)\n",
    "\n",
    "H_mixer = Hamiltonian(coeffs=[], observables=[])\n",
    "for wire in range(n_wires):\n",
    "    H_mixer += qml.PauliX(wire)\n",
    "        \n",
    "        \n",
    "def qaoa_layer(gamma, beta):\n",
    "    n = 1\n",
    "    qml.templates.ApproxTimeEvolution(H_cost, gamma, n)\n",
    "    qml.templates.ApproxTimeEvolution(H_mixer, beta, n)\n",
    "    \n",
    "    \n",
    "def base_circuit(params, wires=None):\n",
    "    gammas, betas = params\n",
    "    depth=2\n",
    "    for wire in range(n_wires):\n",
    "        qml.Hadamard(wires=wire)    \n",
    "    qml.layer(qaoa_layer, depth, gammas, betas)\n",
    "    \n",
    "\n",
    "@qml.qnode(dev)\n",
    "def inference_circuit(params):\n",
    "    base_circuit(params)\n",
    "#     res = qml.Hermitian(np.diag(range(2 ** n_wires)), wires=range(n_wires))\n",
    "    #return qml.sample(res)\n",
    "    return qml.probs(wires=range(n_wires))\n",
    "#     return qml.sample(comp_basis_measurement(range(n_wires)))\n",
    "#     return [qml.sample(qml.PauliZ(i)) for i in range(n_wires)]"
   ]
  },
  {
   "cell_type": "code",
   "execution_count": null,
   "metadata": {},
   "outputs": [],
   "source": [
    "# @qml.qnode(dev)\n",
    "# def train_circuit(params, edge=None):\n",
    "#     pauli_z = [[1, 0], [0, -1]]\n",
    "#     pauli_z_2 = np.kron(pauli_z, pauli_z)\n",
    "#     base_circuit(params)\n",
    "#     return qml.expval(qml.Hermitian(pauli_z_2, wires=edge))\n",
    "\n",
    "# def loss(params):\n",
    "#     neg_obj = 0\n",
    "#     for edge in graph:\n",
    "#         neg_obj -= 0.5 * (1 - train_circuit(params, edge=edge))\n",
    "#     return neg_obj\n"
   ]
  },
  {
   "cell_type": "code",
   "execution_count": 31,
   "metadata": {},
   "outputs": [],
   "source": [
    "cost = qml.ExpvalCost(base_circuit, H_cost, dev)\n",
    "\n",
    "def loss(params):\n",
    "    return -cost(params)\n",
    "\n"
   ]
  },
  {
   "cell_type": "code",
   "execution_count": 32,
   "metadata": {},
   "outputs": [
    {
     "name": "stdout",
     "output_type": "stream",
     "text": [
      "-3.9083130254755054\n",
      "-0.3185237560087665\n",
      "-1.019128391661257\n",
      "-1.6638639360135732\n",
      "0.43657711533357235\n",
      "-1.9289350591353283\n",
      "-3.3636604424014713\n",
      "-3.605477758142641\n",
      "-2.8179392976905486\n",
      "-2.369800772347249\n",
      "-3.305426663740142\n",
      "-3.7982604115379637\n",
      "-3.7234622265300907\n",
      "-3.549601226928349\n",
      "-3.4861375114698694\n",
      "-3.4839735445211186\n",
      "-3.632213174704402\n",
      "-3.694975544416353\n",
      "-3.7547105390957434\n",
      "-3.784169037881759\n",
      "-3.8154084963914086\n",
      "-3.8362009208899095\n",
      "-3.8583522649821558\n",
      "-3.8748181019617167\n",
      "-3.891485886627414\n",
      "-3.9044299645162392\n",
      "-3.917036795871375\n",
      "-3.927080438423372\n",
      "-3.936621743895954\n",
      "-3.944360732228496\n"
     ]
    }
   ],
   "source": [
    "params = 0.01 * np.random.rand(2, 2)\n",
    "opt = qml.AdagradOptimizer(stepsize=0.5)\n",
    "\n",
    "for i in range(30):\n",
    "    params = opt.step(loss, params)\n",
    "    print(loss(params))\n"
   ]
  },
  {
   "cell_type": "code",
   "execution_count": 35,
   "metadata": {},
   "outputs": [
    {
     "data": {
      "text/plain": [
       "tensor([5.39622384e-06, 1.21514897e-03, 1.21514897e-03, 1.04176006e-03,\n",
       "        1.21514897e-03, 4.93050488e-01, 1.04176006e-03, 1.21514897e-03,\n",
       "        1.21514897e-03, 1.04176006e-03, 4.93050488e-01, 1.21514897e-03,\n",
       "        1.04176006e-03, 1.21514897e-03, 1.21514897e-03, 5.39622384e-06], requires_grad=True)"
      ]
     },
     "execution_count": 35,
     "metadata": {},
     "output_type": "execute_result"
    }
   ],
   "source": [
    "inference_circuit(params)"
   ]
  },
  {
   "cell_type": "code",
   "execution_count": 36,
   "metadata": {
    "scrolled": true
   },
   "outputs": [
    {
     "data": {
      "text/plain": [
       "[<matplotlib.lines.Line2D at 0x7fccb9f770f0>]"
      ]
     },
     "execution_count": 36,
     "metadata": {},
     "output_type": "execute_result"
    },
    {
     "data": {
      "image/png": "[encoded data removed]",
      "text/plain": [
       "<Figure size 432x288 with 1 Axes>"
      ]
     },
     "metadata": {
      "needs_background": "light"
     },
     "output_type": "display_data"
    }
   ],
   "source": [
    "plt.plot(inference_circuit(params))"
   ]
  },
  {
   "cell_type": "code",
   "execution_count": 333,
   "metadata": {},
   "outputs": [
    {
     "data": {
      "text/plain": [
       "(array([ 326.,  147.,  931., 2676.,  934.,  169., 3421.,  168.,  883.,\n",
       "         345.]),\n",
       " array([ 0. ,  1.5,  3. ,  4.5,  6. ,  7.5,  9. , 10.5, 12. , 13.5, 15. ]),\n",
       " <a list of 10 Patch objects>)"
      ]
     },
     "execution_count": 333,
     "metadata": {},
     "output_type": "execute_result"
    },
    {
     "data": {
      "image/png": "[encoded data removed]",
      "text/plain": [
       "<Figure size 432x288 with 1 Axes>"
      ]
     },
     "metadata": {
      "needs_background": "light"
     },
     "output_type": "display_data"
    }
   ],
   "source": []
  },
  {
   "cell_type": "code",
   "execution_count": 2,
   "metadata": {},
   "outputs": [
    {
     "data": {
      "text/plain": [
       "28500.333333333336"
      ]
     },
     "execution_count": 2,
     "metadata": {},
     "output_type": "execute_result"
    }
   ],
   "source": [
    "8550.1 / 0.3"
   ]
  },
  {
   "cell_type": "code",
   "execution_count": 4,
   "metadata": {},
   "outputs": [
    {
     "data": {
      "text/plain": [
       "1915.0"
      ]
     },
     "execution_count": 4,
     "metadata": {},
     "output_type": "execute_result"
    }
   ],
   "source": [
    "(117 + 400 + 750 + 989 + 100) / 2 + (332 + 30 + 90 + 158 + 97 + 30)"
   ]
  },
  {
   "cell_type": "code",
   "execution_count": null,
   "metadata": {},
   "outputs": [],
   "source": []
  },
  {
   "cell_type": "code",
   "execution_count": null,
   "metadata": {},
   "outputs": [],
   "source": []
  },
  {
   "cell_type": "code",
   "execution_count": null,
   "metadata": {},
   "outputs": [],
   "source": []
  },
  {
   "cell_type": "code",
   "execution_count": null,
   "metadata": {},
   "outputs": [],
   "source": []
  },
  {
   "cell_type": "code",
   "execution_count": null,
   "metadata": {},
   "outputs": [],
   "source": []
  },
  {
   "cell_type": "code",
   "execution_count": null,
   "metadata": {},
   "outputs": [],
   "source": []
  },
  {
   "cell_type": "code",
   "execution_count": null,
   "metadata": {},
   "outputs": [],
   "source": []
  },
  {
   "cell_type": "code",
   "execution_count": null,
   "metadata": {},
   "outputs": [],
   "source": []
  },
  {
   "cell_type": "code",
   "execution_count": null,
   "metadata": {},
   "outputs": [],
   "source": []
  }
 ],
 "metadata": {
  "kernelspec": {
   "display_name": "Python 3",
   "language": "python",
   "name": "python3"
  },
  "language_info": {
   "codemirror_mode": {
    "name": "ipython",
    "version": 3
   },
   "file_extension": ".py",
   "mimetype": "text/x-python",
   "name": "python",
   "nbconvert_exporter": "python",
   "pygments_lexer": "ipython3",
   "version": "3.6.9"
  }
 },
 "nbformat": 4,
 "nbformat_minor": 4
}
