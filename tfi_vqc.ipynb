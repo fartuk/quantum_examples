{
 "cells": [
  {
   "cell_type": "code",
   "execution_count": 64,
   "metadata": {},
   "outputs": [],
   "source": [
    "import pennylane as qml\n",
    "from pennylane import qchem\n",
    "from pennylane import numpy as np"
   ]
  },
  {
   "cell_type": "code",
   "execution_count": 78,
   "metadata": {},
   "outputs": [],
   "source": [
    "dev = qml.device(\"default.qubit\", wires=5)\n",
    "\n",
    "\n",
    "def get_H(h, j):\n",
    "    op = h * qml.PauliX(4)\n",
    "    for i in range(5-1):\n",
    "        op -= j * qml.PauliZ(i) @ qml.PauliZ(i+1)\n",
    "        op += h * qml.PauliX(i)\n",
    "        \n",
    "    return op\n",
    "\n",
    "\n",
    "def my_quantum_function(params, wires):\n",
    "#     qml.templates.BasicEntanglerLayers([[0]*5], wires=range(5))     \n",
    "    k = 0\n",
    "    for i in range(5):\n",
    "        qml.Hadamard(wires=i)\n",
    "        qml.RX(params[k], wires=i)\n",
    "        qml.RY(params[k+1], wires=i)\n",
    "        qml.RZ(params[k+2], wires=i)\n",
    "        k += 3\n",
    "\n",
    "    "
   ]
  },
  {
   "cell_type": "code",
   "execution_count": 79,
   "metadata": {},
   "outputs": [
    {
     "name": "stdout",
     "output_type": "stream",
     "text": [
      "-3.324068590603738\n",
      "-3.9739029405849924\n",
      "-4.150653520756314\n",
      "-4.189302782487551\n",
      "-4.206705777703146\n",
      "-4.219875131093094\n",
      "-4.231972387118484\n",
      "-4.243728730236398\n",
      "-4.255274195334969\n",
      "-4.266579645654436\n",
      "-4.27757764793146\n",
      "-4.288197278934098\n",
      "-4.29837517508124\n",
      "-4.308059763175947\n",
      "-4.317213165766712\n",
      "-4.325811876895941\n",
      "-4.333846451807723\n",
      "-4.341320327207679\n",
      "-4.34824794829097\n",
      "-4.354652450667704\n"
     ]
    }
   ],
   "source": [
    "H = get_H(h=0.5, j=1)\n",
    "cost = qml.ExpvalCost(my_quantum_function, H, dev)\n",
    "opt = qml.GradientDescentOptimizer(stepsize=0.4)\n",
    "weights = np.random.uniform(0, np.pi, 5*3)\n",
    "for i in range(20):\n",
    "    loss_val = cost(weights)\n",
    "    print(loss_val)\n",
    "    weights = opt.step(cost, weights)\n",
    "    "
   ]
  },
  {
   "cell_type": "markdown",
   "metadata": {},
   "source": [
    "# Check"
   ]
  },
  {
   "cell_type": "code",
   "execution_count": 32,
   "metadata": {},
   "outputs": [],
   "source": [
    "from scipy import sparse\n"
   ]
  },
  {
   "cell_type": "code",
   "execution_count": 28,
   "metadata": {},
   "outputs": [],
   "source": [
    "import numpy as np\n",
    "\n",
    "def sigmaz_k(k, N) -> sparse.csr_matrix:\n",
    "    res = 1\n",
    "    for i in range(N):\n",
    "        if i == k:\n",
    "            res = sparse.kron(\n",
    "                res,\n",
    "                sparse.csr_matrix(\n",
    "                    np.array([[1, 0], [0, -1]], dtype=np.complex)\n",
    "                )\n",
    "            )\n",
    "        else:\n",
    "            res = sparse.kron(res, sparse.eye(2, dtype=np.complex))\n",
    "\n",
    "    return res\n",
    "\n",
    "def sigmax_k(k, N) -> sparse.csr_matrix:\n",
    "    res = 1\n",
    "    for i in range(N):\n",
    "        if i == k:\n",
    "            res = sparse.kron(\n",
    "                res,\n",
    "                sparse.csr_matrix(\n",
    "                    np.array([[0, 1], [1, 0]], dtype=np.complex)\n",
    "                )\n",
    "            )\n",
    "        else:\n",
    "            res = sparse.kron(res, sparse.eye(2, dtype=np.complex))\n",
    "\n",
    "    return res\n",
    "\n",
    "def tfi_op(N, j, h) -> sparse.csr_matrix:\n",
    "    res = sparse.csr_matrix((2 ** N, 2 ** N), dtype=np.complex)\n",
    "\n",
    "    for i in range(N - 1):\n",
    "        res += -j * sigmaz_k(i, N) * sigmaz_k(i + 1, N)\n",
    "        res += h * sigmax_k(i, N)\n",
    "\n",
    "    res += h * sigmax_k(N - 1, N)\n",
    "\n",
    "    return res"
   ]
  },
  {
   "cell_type": "code",
   "execution_count": 34,
   "metadata": {},
   "outputs": [
    {
     "name": "stdout",
     "output_type": "stream",
     "text": [
      "Exact solution: -4.4695\n"
     ]
    }
   ],
   "source": [
    "H_np = tfi_op(5, 1, 0.5)\n",
    "exact_sol = sparse.linalg.eigs(\n",
    "    sparse.csc_matrix(H_np), k=1, which=\"SR\", return_eigenvectors=False\n",
    ")[0]\n",
    "print(f\"Exact solution: {np.real(exact_sol):.4f}\")"
   ]
  },
  {
   "cell_type": "code",
   "execution_count": 45,
   "metadata": {},
   "outputs": [
    {
     "data": {
      "text/plain": [
       "True"
      ]
     },
     "execution_count": 45,
     "metadata": {},
     "output_type": "execute_result"
    }
   ],
   "source": [
    "(H_np.H == H_np).min()"
   ]
  },
  {
   "cell_type": "code",
   "execution_count": null,
   "metadata": {},
   "outputs": [],
   "source": []
  },
  {
   "cell_type": "code",
   "execution_count": null,
   "metadata": {},
   "outputs": [],
   "source": []
  },
  {
   "cell_type": "code",
   "execution_count": null,
   "metadata": {},
   "outputs": [],
   "source": []
  },
  {
   "cell_type": "code",
   "execution_count": null,
   "metadata": {},
   "outputs": [],
   "source": []
  },
  {
   "cell_type": "code",
   "execution_count": null,
   "metadata": {},
   "outputs": [],
   "source": []
  },
  {
   "cell_type": "code",
   "execution_count": null,
   "metadata": {},
   "outputs": [],
   "source": []
  },
  {
   "cell_type": "code",
   "execution_count": null,
   "metadata": {},
   "outputs": [],
   "source": []
  },
  {
   "cell_type": "code",
   "execution_count": null,
   "metadata": {},
   "outputs": [],
   "source": []
  },
  {
   "cell_type": "code",
   "execution_count": null,
   "metadata": {},
   "outputs": [],
   "source": []
  },
  {
   "cell_type": "code",
   "execution_count": null,
   "metadata": {},
   "outputs": [],
   "source": []
  },
  {
   "cell_type": "code",
   "execution_count": null,
   "metadata": {},
   "outputs": [],
   "source": []
  }
 ],
 "metadata": {
  "kernelspec": {
   "display_name": "Python 3",
   "language": "python",
   "name": "python3"
  },
  "language_info": {
   "codemirror_mode": {
    "name": "ipython",
    "version": 3
   },
   "file_extension": ".py",
   "mimetype": "text/x-python",
   "name": "python",
   "nbconvert_exporter": "python",
   "pygments_lexer": "ipython3",
   "version": "3.6.9"
  }
 },
 "nbformat": 4,
 "nbformat_minor": 4
}
