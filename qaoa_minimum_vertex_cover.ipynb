{
 "cells": [
  {
   "cell_type": "code",
   "execution_count": 3,
   "metadata": {},
   "outputs": [],
   "source": [
    "import pennylane as qml\n"
   ]
  },
  {
   "cell_type": "code",
   "execution_count": 134,
   "metadata": {},
   "outputs": [
    {
     "name": "stdout",
     "output_type": "stream",
     "text": [
      "(1) [X0]\n",
      "+ (1) [Z1]\n",
      "+ (0.5) [X0 X1]\n"
     ]
    }
   ],
   "source": [
    "H = qml.Hamiltonian(\n",
    "    [1, 1, 0.5],\n",
    "    [qml.PauliX(0), qml.PauliZ(1), qml.PauliX(0) @ qml.PauliX(1)]\n",
    ")\n",
    "print(H)"
   ]
  },
  {
   "cell_type": "code",
   "execution_count": 135,
   "metadata": {},
   "outputs": [
    {
     "name": "stdout",
     "output_type": "stream",
     "text": [
      " 0: ──H──────RZ(2)──H──H──╭RZ(1)──H──┤ ⟨Z⟩ \n",
      " 1: ──RZ(2)──H────────────╰RZ(1)──H──┤ ⟨Z⟩ \n",
      "\n"
     ]
    }
   ],
   "source": [
    "dev = qml.device('default.qubit', wires=2)\n",
    "\n",
    "t = 1\n",
    "n = 1\n",
    "\n",
    "@qml.qnode(dev)\n",
    "def circuit():\n",
    "    qml.templates.ApproxTimeEvolution(H, t, n)\n",
    "    return [qml.expval(qml.PauliZ(i)) for i in range(2)]\n",
    "\n",
    "circuit()\n",
    "print(circuit.draw())"
   ]
  },
  {
   "cell_type": "code",
   "execution_count": 136,
   "metadata": {},
   "outputs": [
    {
     "name": "stdout",
     "output_type": "stream",
     "text": [
      " 0: ──RX(0.3)──╭C──RX(0.4)──╭C──RX(0.5)──╭C──┤ ⟨Z⟩ \n",
      " 1: ──H────────╰X──H────────╰X──H────────╰X──┤ ⟨Z⟩ \n",
      "\n"
     ]
    }
   ],
   "source": [
    "def circ(theta):\n",
    "    qml.RX(theta, wires=0)\n",
    "    qml.Hadamard(wires=1)\n",
    "    qml.CNOT(wires=[0, 1])\n",
    "\n",
    "    \n",
    "@qml.qnode(dev)\n",
    "def circuit(params, **kwargs):\n",
    "    qml.layer(circ, 3, params)\n",
    "    return [qml.expval(qml.PauliZ(i)) for i in range(2)]\n",
    "\n",
    "circuit([0.3, 0.4, 0.5])\n",
    "print(circuit.draw())"
   ]
  },
  {
   "cell_type": "code",
   "execution_count": 138,
   "metadata": {},
   "outputs": [
    {
     "name": "stdout",
     "output_type": "stream",
     "text": [
      " 0: ──RX(0.3)──┤ ⟨Z⟩ \n",
      "\n"
     ]
    }
   ],
   "source": [
    "dev = qml.device('default.qubit', wires=1)\n",
    "\n",
    "\n",
    "def circ(theta):\n",
    "    qml.RX(theta, wires=0)\n",
    "\n",
    "\n",
    "    \n",
    "@qml.qnode(dev)\n",
    "def circuit(params, **kwargs):\n",
    "    qml.layer(circ, 1, params)\n",
    "    return [qml.expval(qml.PauliZ(i)) for i in range(1)]\n",
    "\n",
    "circuit([0.3])\n",
    "print(circuit.draw())"
   ]
  },
  {
   "cell_type": "code",
   "execution_count": 146,
   "metadata": {},
   "outputs": [
    {
     "name": "stdout",
     "output_type": "stream",
     "text": [
      " 0: ──H──RZ(4)──H──┤ ⟨Z⟩ \n",
      "\n"
     ]
    }
   ],
   "source": [
    "dev = qml.device('default.qubit', wires=1)\n",
    "\n",
    "t = 1\n",
    "n = 1\n",
    "\n",
    "\n",
    "H = qml.Hamiltonian(\n",
    "    [2],\n",
    "    [qml.PauliX(0)]\n",
    ")\n",
    "\n",
    "@qml.qnode(dev)\n",
    "def circuit():\n",
    "    qml.templates.ApproxTimeEvolution(H, t, n)\n",
    "    return [qml.expval(qml.PauliZ(i)) for i in range(1)]\n",
    "\n",
    "circuit()\n",
    "print(circuit.draw())"
   ]
  },
  {
   "cell_type": "markdown",
   "metadata": {},
   "source": [
    "# Minimum vertex cover"
   ]
  },
  {
   "cell_type": "code",
   "execution_count": 14,
   "metadata": {},
   "outputs": [],
   "source": [
    "from pennylane import qaoa\n",
    "import numpy as np\n",
    "from matplotlib import pyplot as plt\n",
    "import networkx as nx"
   ]
  },
  {
   "cell_type": "code",
   "execution_count": 15,
   "metadata": {},
   "outputs": [
    {
     "data": {
      "image/png": "[encoded data removed]",
      "text/plain": [
       "<Figure size 432x288 with 1 Axes>"
      ]
     },
     "metadata": {},
     "output_type": "display_data"
    }
   ],
   "source": [
    "edges = [(0, 1), (1, 2), (2, 0), (2, 3)]\n",
    "graph = nx.Graph(edges)\n",
    "\n",
    "nx.draw(graph, with_labels=True)\n",
    "plt.show()"
   ]
  },
  {
   "cell_type": "code",
   "execution_count": 19,
   "metadata": {},
   "outputs": [],
   "source": [
    "cost_h, mixer_h = qaoa.min_vertex_cover(graph, constrained=False)"
   ]
  },
  {
   "cell_type": "code",
   "execution_count": 21,
   "metadata": {},
   "outputs": [
    {
     "name": "stdout",
     "output_type": "stream",
     "text": [
      "(0.75) [Z0 Z1]\n",
      "+ (0.5) [Z0]\n",
      "+ (0.5) [Z1]\n",
      "+ (0.75) [Z0 Z2]\n",
      "+ (1.25) [Z2]\n",
      "+ (0.75) [Z1 Z2]\n",
      "+ (0.75) [Z2 Z3]\n",
      "+ (-0.25) [Z3]\n"
     ]
    }
   ],
   "source": [
    "print(cost_h)"
   ]
  },
  {
   "cell_type": "code",
   "execution_count": 22,
   "metadata": {},
   "outputs": [
    {
     "name": "stdout",
     "output_type": "stream",
     "text": [
      "(1) [X0]\n",
      "+ (1) [X1]\n",
      "+ (1) [X2]\n",
      "+ (1) [X3]\n"
     ]
    }
   ],
   "source": [
    "print(mixer_h)"
   ]
  },
  {
   "cell_type": "code",
   "execution_count": 56,
   "metadata": {},
   "outputs": [],
   "source": [
    "def qaoa_layer(gamma, alpha):\n",
    "    n = 1\n",
    "    qml.templates.ApproxTimeEvolution(cost_h, gamma, n)\n",
    "    qml.templates.ApproxTimeEvolution(mixer_h, alpha, n)"
   ]
  },
  {
   "cell_type": "code",
   "execution_count": 97,
   "metadata": {},
   "outputs": [],
   "source": [
    "wires = range(4)\n",
    "depth = 3\n",
    "\n",
    "def circuit(params, **kwargs):\n",
    "    for w in wires:\n",
    "        qml.Hadamard(wires=w)\n",
    "    qml.layer(qaoa_layer, depth, params[0], params[1])"
   ]
  },
  {
   "cell_type": "code",
   "execution_count": 98,
   "metadata": {},
   "outputs": [],
   "source": [
    "dev = qml.device(\"default.qubit\", wires=wires)\n",
    "cost_function = qml.ExpvalCost(circuit, cost_h, dev)\n"
   ]
  },
  {
   "cell_type": "code",
   "execution_count": 99,
   "metadata": {},
   "outputs": [],
   "source": [
    "optimizer = qml.GradientDescentOptimizer()\n",
    "steps = 70\n",
    "params = [[0.5]*depth, [0.5]*depth]"
   ]
  },
  {
   "cell_type": "code",
   "execution_count": 100,
   "metadata": {},
   "outputs": [
    {
     "name": "stdout",
     "output_type": "stream",
     "text": [
      "-0.06619825569349881\n",
      "-0.42485205265987713\n",
      "-0.5864863372574624\n",
      "-0.6800218286201392\n",
      "-0.7440000588537361\n",
      "-0.7935892512759266\n",
      "-0.8354247455155223\n",
      "-0.8727281496705954\n",
      "-0.9072836084672463\n",
      "-0.9402003345666969\n",
      "-0.9722070931962047\n",
      "-1.003772357459853\n",
      "-1.0351626472223996\n",
      "-1.066480308026116\n",
      "-1.0976950553607747\n",
      "-1.1286740087844893\n",
      "-1.1592116010808833\n",
      "-1.18905933953514\n",
      "-1.2179544850404846\n",
      "-1.2456460555938242\n",
      "-1.2719162952107945\n",
      "-1.2965960100538987\n",
      "-1.319572916442141\n",
      "-1.3407931425127158\n",
      "-1.3602569664250417\n",
      "-1.378010500892239\n",
      "-1.3941352320026255\n",
      "-1.4087371308569\n",
      "-1.4219366216948761\n",
      "-1.4338601759891842\n",
      "-1.444633838823736\n",
      "-1.4543786518105815\n",
      "-1.4632077307632714\n",
      "-1.471224666029273\n",
      "-1.4785229041369425\n",
      "-1.485185806958227\n",
      "-1.491287142291973\n",
      "-1.4968918203100674\n",
      "-1.5020567443187474\n",
      "-1.5068316880093982\n",
      "-1.5112601444009568\n",
      "-1.5153801152796302\n",
      "-1.5192248259926653\n",
      "-1.5228233608324049\n",
      "-1.5262012205755113\n",
      "-1.5293808072984243\n",
      "-1.5323818433241434\n",
      "-1.5352217317423253\n",
      "-1.5379158658474574\n",
      "-1.540477894364478\n",
      "-1.5429199486738403\n",
      "-1.5452528375293457\n",
      "-1.54748621405256\n",
      "-1.5496287191256475\n",
      "-1.5516881047078703\n",
      "-1.5536713400756497\n",
      "-1.5555847035306212\n",
      "-1.557433861729472\n",
      "-1.5592239384569337\n",
      "-1.5609595743818638\n",
      "-1.5626449790988053\n",
      "-1.5642839765575125\n",
      "-1.5658800448147625\n",
      "-1.567436350901444\n",
      "-1.568955781478953\n",
      "-1.5704409698590045\n",
      "-1.5718943198766613\n",
      "-1.5733180270352742\n",
      "-1.5747140972820424\n",
      "-1.5760843637219817\n",
      "Optimal Parameters\n",
      "[[0.5973538078779193, 0.7551947254565826, 0.1870053358657179], [0.5245455337262357, -0.012114919286104756, 0.8509247501504251]]\n"
     ]
    }
   ],
   "source": [
    "for i in range(steps):\n",
    "    params = optimizer.step(cost_function, params)\n",
    "    print(cost_function(params))\n",
    "print(\"Optimal Parameters\")\n",
    "print(params)\n"
   ]
  },
  {
   "cell_type": "code",
   "execution_count": 109,
   "metadata": {},
   "outputs": [
    {
     "data": {
      "text/plain": [
       "-1.5760843637219817"
      ]
     },
     "execution_count": 109,
     "metadata": {},
     "output_type": "execute_result"
    }
   ],
   "source": [
    "cost_function(params)"
   ]
  },
  {
   "cell_type": "code",
   "execution_count": 113,
   "metadata": {},
   "outputs": [],
   "source": [
    "@qml.qnode(dev)\n",
    "def probability_circuit(gamma, alpha):\n",
    "    circuit([gamma, alpha])\n",
    "    \n",
    "    return qml.probs(wires=wires)\n",
    "\n",
    "\n",
    "probs = probability_circuit(params[0], params[1])"
   ]
  },
  {
   "cell_type": "code",
   "execution_count": 114,
   "metadata": {},
   "outputs": [
    {
     "data": {
      "image/png": "[encoded data removed]",
      "text/plain": [
       "<Figure size 576x396 with 1 Axes>"
      ]
     },
     "metadata": {},
     "output_type": "display_data"
    }
   ],
   "source": [
    "plt.style.use(\"seaborn\")\n",
    "plt.bar(range(2 ** len(wires)), probs)\n",
    "plt.show()"
   ]
  },
  {
   "cell_type": "code",
   "execution_count": null,
   "metadata": {},
   "outputs": [],
   "source": []
  },
  {
   "cell_type": "code",
   "execution_count": null,
   "metadata": {},
   "outputs": [],
   "source": []
  },
  {
   "cell_type": "code",
   "execution_count": null,
   "metadata": {},
   "outputs": [],
   "source": []
  },
  {
   "cell_type": "code",
   "execution_count": null,
   "metadata": {},
   "outputs": [],
   "source": []
  },
  {
   "cell_type": "code",
   "execution_count": null,
   "metadata": {},
   "outputs": [],
   "source": []
  },
  {
   "cell_type": "code",
   "execution_count": null,
   "metadata": {},
   "outputs": [],
   "source": []
  },
  {
   "cell_type": "code",
   "execution_count": null,
   "metadata": {},
   "outputs": [],
   "source": []
  },
  {
   "cell_type": "code",
   "execution_count": null,
   "metadata": {},
   "outputs": [],
   "source": []
  },
  {
   "cell_type": "code",
   "execution_count": null,
   "metadata": {},
   "outputs": [],
   "source": []
  },
  {
   "cell_type": "code",
   "execution_count": null,
   "metadata": {},
   "outputs": [],
   "source": []
  }
 ],
 "metadata": {
  "kernelspec": {
   "display_name": "Python 3",
   "language": "python",
   "name": "python3"
  },
  "language_info": {
   "codemirror_mode": {
    "name": "ipython",
    "version": 3
   },
   "file_extension": ".py",
   "mimetype": "text/x-python",
   "name": "python",
   "nbconvert_exporter": "python",
   "pygments_lexer": "ipython3",
   "version": "3.6.9"
  }
 },
 "nbformat": 4,
 "nbformat_minor": 4
}
